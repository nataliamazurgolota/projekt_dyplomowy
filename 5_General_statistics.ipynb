{
 "cells": [
  {
   "cell_type": "code",
   "execution_count": 1,
   "id": "4738c538-d667-413a-b3d8-a4818fd8c288",
   "metadata": {},
   "outputs": [],
   "source": [
    "import pandas as pd"
   ]
  },
  {
   "cell_type": "code",
   "execution_count": 2,
   "id": "9381a043-d671-4438-bdcf-61ca3a274036",
   "metadata": {},
   "outputs": [],
   "source": [
    "df = pd.read_csv(\"/home/student/Pulpit/nypd.csv\", low_memory=False)"
   ]
  },
  {
   "cell_type": "code",
   "execution_count": 3,
   "id": "53332612-651d-47c9-b73b-d0f991bcc436",
   "metadata": {},
   "outputs": [],
   "source": [
    "data = df.drop([\"ON STREET NAME\",\"CROSS STREET NAME\",\"OFF STREET NAME\",\"LATITUDE\",\"LONGITUDE\",\"CONTRIBUTING FACTOR VEHICLE 4\",\"VEHICLE TYPE CODE 4\",\"CONTRIBUTING FACTOR VEHICLE 5\",\"VEHICLE TYPE CODE 5\"], axis=1)"
   ]
  },
  {
   "cell_type": "code",
   "execution_count": null,
   "id": "958116b3-9003-45b3-9134-095ee8cbc9d2",
   "metadata": {},
   "outputs": [],
   "source": []
  }
 ],
 "metadata": {
  "kernelspec": {
   "display_name": "Python 3 (ipykernel)",
   "language": "python",
   "name": "python3"
  },
  "language_info": {
   "codemirror_mode": {
    "name": "ipython",
    "version": 3
   },
   "file_extension": ".py",
   "mimetype": "text/x-python",
   "name": "python",
   "nbconvert_exporter": "python",
   "pygments_lexer": "ipython3",
   "version": "3.10.12"
  }
 },
 "nbformat": 4,
 "nbformat_minor": 5
}
